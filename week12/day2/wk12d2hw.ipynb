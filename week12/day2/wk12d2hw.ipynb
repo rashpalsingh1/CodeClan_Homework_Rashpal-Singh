{
 "cells": [
  {
   "cell_type": "code",
   "execution_count": 1,
   "metadata": {},
   "outputs": [],
   "source": [
    "import pandas as pd"
   ]
  },
  {
   "cell_type": "code",
   "execution_count": 98,
   "metadata": {},
   "outputs": [],
   "source": [
    "import numpy as np"
   ]
  },
  {
   "cell_type": "markdown",
   "metadata": {},
   "source": [
    "Load in the dataset (starbucks_drinkMenu_expanded.csv), calling it drinks_content, and then briefly explore it, printing out: first 5 rows, last 5 rows, and then all of the data. Find out the dimensions of the data (number of rows and columns) and the column names."
   ]
  },
  {
   "cell_type": "code",
   "execution_count": 2,
   "metadata": {},
   "outputs": [],
   "source": [
    "drinks_content = pd.read_csv(\"starbucks_drinkMenu_expanded.csv\")"
   ]
  },
  {
   "cell_type": "code",
   "execution_count": 3,
   "metadata": {},
   "outputs": [
    {
     "data": {
      "text/html": [
       "<div>\n",
       "<style scoped>\n",
       "    .dataframe tbody tr th:only-of-type {\n",
       "        vertical-align: middle;\n",
       "    }\n",
       "\n",
       "    .dataframe tbody tr th {\n",
       "        vertical-align: top;\n",
       "    }\n",
       "\n",
       "    .dataframe thead th {\n",
       "        text-align: right;\n",
       "    }\n",
       "</style>\n",
       "<table border=\"1\" class=\"dataframe\">\n",
       "  <thead>\n",
       "    <tr style=\"text-align: right;\">\n",
       "      <th></th>\n",
       "      <th>Beverage_category</th>\n",
       "      <th>Beverage</th>\n",
       "      <th>Beverage_prep</th>\n",
       "      <th>Calories</th>\n",
       "      <th>Total Fat (g)</th>\n",
       "      <th>Trans Fat (g)</th>\n",
       "      <th>Saturated Fat (g)</th>\n",
       "      <th>Sodium (mg)</th>\n",
       "      <th>Total Carbohydrates (g)</th>\n",
       "      <th>Cholesterol (mg)</th>\n",
       "      <th>Dietary Fibre (g)</th>\n",
       "      <th>Sugars (g)</th>\n",
       "      <th>Protein (g)</th>\n",
       "      <th>Vitamin A (% DV)</th>\n",
       "      <th>Vitamin C (% DV)</th>\n",
       "      <th>Calcium (% DV)</th>\n",
       "      <th>Iron (% DV)</th>\n",
       "      <th>Caffeine (mg)</th>\n",
       "    </tr>\n",
       "  </thead>\n",
       "  <tbody>\n",
       "    <tr>\n",
       "      <th>0</th>\n",
       "      <td>Coffee</td>\n",
       "      <td>Brewed Coffee</td>\n",
       "      <td>Short</td>\n",
       "      <td>3</td>\n",
       "      <td>0.1</td>\n",
       "      <td>0.0</td>\n",
       "      <td>0.0</td>\n",
       "      <td>0</td>\n",
       "      <td>5</td>\n",
       "      <td>0</td>\n",
       "      <td>0</td>\n",
       "      <td>0</td>\n",
       "      <td>0.3</td>\n",
       "      <td>0%</td>\n",
       "      <td>0%</td>\n",
       "      <td>0%</td>\n",
       "      <td>0%</td>\n",
       "      <td>175</td>\n",
       "    </tr>\n",
       "    <tr>\n",
       "      <th>1</th>\n",
       "      <td>Coffee</td>\n",
       "      <td>Brewed Coffee</td>\n",
       "      <td>Tall</td>\n",
       "      <td>4</td>\n",
       "      <td>0.1</td>\n",
       "      <td>0.0</td>\n",
       "      <td>0.0</td>\n",
       "      <td>0</td>\n",
       "      <td>10</td>\n",
       "      <td>0</td>\n",
       "      <td>0</td>\n",
       "      <td>0</td>\n",
       "      <td>0.5</td>\n",
       "      <td>0%</td>\n",
       "      <td>0%</td>\n",
       "      <td>0%</td>\n",
       "      <td>0%</td>\n",
       "      <td>260</td>\n",
       "    </tr>\n",
       "    <tr>\n",
       "      <th>2</th>\n",
       "      <td>Coffee</td>\n",
       "      <td>Brewed Coffee</td>\n",
       "      <td>Grande</td>\n",
       "      <td>5</td>\n",
       "      <td>0.1</td>\n",
       "      <td>0.0</td>\n",
       "      <td>0.0</td>\n",
       "      <td>0</td>\n",
       "      <td>10</td>\n",
       "      <td>0</td>\n",
       "      <td>0</td>\n",
       "      <td>0</td>\n",
       "      <td>1.0</td>\n",
       "      <td>0%</td>\n",
       "      <td>0%</td>\n",
       "      <td>0%</td>\n",
       "      <td>0%</td>\n",
       "      <td>330</td>\n",
       "    </tr>\n",
       "    <tr>\n",
       "      <th>3</th>\n",
       "      <td>Coffee</td>\n",
       "      <td>Brewed Coffee</td>\n",
       "      <td>Venti</td>\n",
       "      <td>5</td>\n",
       "      <td>0.1</td>\n",
       "      <td>0.0</td>\n",
       "      <td>0.0</td>\n",
       "      <td>0</td>\n",
       "      <td>10</td>\n",
       "      <td>0</td>\n",
       "      <td>0</td>\n",
       "      <td>0</td>\n",
       "      <td>1.0</td>\n",
       "      <td>0%</td>\n",
       "      <td>0%</td>\n",
       "      <td>2%</td>\n",
       "      <td>0%</td>\n",
       "      <td>410</td>\n",
       "    </tr>\n",
       "    <tr>\n",
       "      <th>4</th>\n",
       "      <td>Classic Espresso Drinks</td>\n",
       "      <td>Caffè Latte</td>\n",
       "      <td>Short Nonfat Milk</td>\n",
       "      <td>70</td>\n",
       "      <td>0.1</td>\n",
       "      <td>0.1</td>\n",
       "      <td>0.0</td>\n",
       "      <td>5</td>\n",
       "      <td>75</td>\n",
       "      <td>10</td>\n",
       "      <td>0</td>\n",
       "      <td>9</td>\n",
       "      <td>6.0</td>\n",
       "      <td>10%</td>\n",
       "      <td>0%</td>\n",
       "      <td>20%</td>\n",
       "      <td>0%</td>\n",
       "      <td>75</td>\n",
       "    </tr>\n",
       "  </tbody>\n",
       "</table>\n",
       "</div>"
      ],
      "text/plain": [
       "         Beverage_category       Beverage      Beverage_prep  Calories  \\\n",
       "0                   Coffee  Brewed Coffee              Short         3   \n",
       "1                   Coffee  Brewed Coffee               Tall         4   \n",
       "2                   Coffee  Brewed Coffee             Grande         5   \n",
       "3                   Coffee  Brewed Coffee              Venti         5   \n",
       "4  Classic Espresso Drinks    Caffè Latte  Short Nonfat Milk        70   \n",
       "\n",
       "   Total Fat (g)  Trans Fat (g)   Saturated Fat (g)   Sodium (mg)  \\\n",
       "0            0.1             0.0                0.0             0   \n",
       "1            0.1             0.0                0.0             0   \n",
       "2            0.1             0.0                0.0             0   \n",
       "3            0.1             0.0                0.0             0   \n",
       "4            0.1             0.1                0.0             5   \n",
       "\n",
       "    Total Carbohydrates (g)   Cholesterol (mg)   Dietary Fibre (g)  \\\n",
       "0                          5                 0                   0   \n",
       "1                         10                 0                   0   \n",
       "2                         10                 0                   0   \n",
       "3                         10                 0                   0   \n",
       "4                         75                10                   0   \n",
       "\n",
       "    Sugars (g)   Protein (g)  Vitamin A (% DV)  Vitamin C (% DV)  \\\n",
       "0            0            0.3                0%               0%   \n",
       "1            0            0.5                0%               0%   \n",
       "2            0            1.0                0%               0%   \n",
       "3            0            1.0                0%               0%   \n",
       "4            9            6.0               10%               0%   \n",
       "\n",
       "   Calcium (% DV)  Iron (% DV)  Caffeine (mg)  \n",
       "0               0%           0%           175  \n",
       "1               0%           0%           260  \n",
       "2               0%           0%           330  \n",
       "3               2%           0%           410  \n",
       "4              20%           0%            75  "
      ]
     },
     "execution_count": 3,
     "metadata": {},
     "output_type": "execute_result"
    }
   ],
   "source": [
    "#first 5 rows\n",
    "drinks_content.head(5)"
   ]
  },
  {
   "cell_type": "code",
   "execution_count": 4,
   "metadata": {},
   "outputs": [
    {
     "data": {
      "text/html": [
       "<div>\n",
       "<style scoped>\n",
       "    .dataframe tbody tr th:only-of-type {\n",
       "        vertical-align: middle;\n",
       "    }\n",
       "\n",
       "    .dataframe tbody tr th {\n",
       "        vertical-align: top;\n",
       "    }\n",
       "\n",
       "    .dataframe thead th {\n",
       "        text-align: right;\n",
       "    }\n",
       "</style>\n",
       "<table border=\"1\" class=\"dataframe\">\n",
       "  <thead>\n",
       "    <tr style=\"text-align: right;\">\n",
       "      <th></th>\n",
       "      <th>Beverage_category</th>\n",
       "      <th>Beverage</th>\n",
       "      <th>Beverage_prep</th>\n",
       "      <th>Calories</th>\n",
       "      <th>Total Fat (g)</th>\n",
       "      <th>Trans Fat (g)</th>\n",
       "      <th>Saturated Fat (g)</th>\n",
       "      <th>Sodium (mg)</th>\n",
       "      <th>Total Carbohydrates (g)</th>\n",
       "      <th>Cholesterol (mg)</th>\n",
       "      <th>Dietary Fibre (g)</th>\n",
       "      <th>Sugars (g)</th>\n",
       "      <th>Protein (g)</th>\n",
       "      <th>Vitamin A (% DV)</th>\n",
       "      <th>Vitamin C (% DV)</th>\n",
       "      <th>Calcium (% DV)</th>\n",
       "      <th>Iron (% DV)</th>\n",
       "      <th>Caffeine (mg)</th>\n",
       "    </tr>\n",
       "  </thead>\n",
       "  <tbody>\n",
       "    <tr>\n",
       "      <th>237</th>\n",
       "      <td>Frappuccino® Blended Crème</td>\n",
       "      <td>Strawberries &amp; Crème (Without Whipped Cream)</td>\n",
       "      <td>Soymilk</td>\n",
       "      <td>320</td>\n",
       "      <td>3 2</td>\n",
       "      <td>0.4</td>\n",
       "      <td>0.0</td>\n",
       "      <td>0</td>\n",
       "      <td>250</td>\n",
       "      <td>67</td>\n",
       "      <td>1</td>\n",
       "      <td>64</td>\n",
       "      <td>5.0</td>\n",
       "      <td>6%</td>\n",
       "      <td>8%</td>\n",
       "      <td>20%</td>\n",
       "      <td>10%</td>\n",
       "      <td>0</td>\n",
       "    </tr>\n",
       "    <tr>\n",
       "      <th>238</th>\n",
       "      <td>Frappuccino® Blended Crème</td>\n",
       "      <td>Vanilla Bean (Without Whipped Cream)</td>\n",
       "      <td>Tall Nonfat Milk</td>\n",
       "      <td>170</td>\n",
       "      <td>0.1</td>\n",
       "      <td>0.1</td>\n",
       "      <td>0.0</td>\n",
       "      <td>0</td>\n",
       "      <td>160</td>\n",
       "      <td>39</td>\n",
       "      <td>0</td>\n",
       "      <td>38</td>\n",
       "      <td>4.0</td>\n",
       "      <td>6%</td>\n",
       "      <td>0%</td>\n",
       "      <td>10%</td>\n",
       "      <td>0%</td>\n",
       "      <td>0</td>\n",
       "    </tr>\n",
       "    <tr>\n",
       "      <th>239</th>\n",
       "      <td>Frappuccino® Blended Crème</td>\n",
       "      <td>Vanilla Bean (Without Whipped Cream)</td>\n",
       "      <td>Whole Milk</td>\n",
       "      <td>200</td>\n",
       "      <td>3.5</td>\n",
       "      <td>2.0</td>\n",
       "      <td>0.1</td>\n",
       "      <td>10</td>\n",
       "      <td>160</td>\n",
       "      <td>39</td>\n",
       "      <td>0</td>\n",
       "      <td>38</td>\n",
       "      <td>3.0</td>\n",
       "      <td>6%</td>\n",
       "      <td>0%</td>\n",
       "      <td>10%</td>\n",
       "      <td>0%</td>\n",
       "      <td>0</td>\n",
       "    </tr>\n",
       "    <tr>\n",
       "      <th>240</th>\n",
       "      <td>Frappuccino® Blended Crème</td>\n",
       "      <td>Vanilla Bean (Without Whipped Cream)</td>\n",
       "      <td>Soymilk</td>\n",
       "      <td>180</td>\n",
       "      <td>1.5</td>\n",
       "      <td>0.2</td>\n",
       "      <td>0.0</td>\n",
       "      <td>0</td>\n",
       "      <td>160</td>\n",
       "      <td>37</td>\n",
       "      <td>1</td>\n",
       "      <td>35</td>\n",
       "      <td>3.0</td>\n",
       "      <td>4%</td>\n",
       "      <td>0%</td>\n",
       "      <td>10%</td>\n",
       "      <td>6%</td>\n",
       "      <td>0</td>\n",
       "    </tr>\n",
       "    <tr>\n",
       "      <th>241</th>\n",
       "      <td>Frappuccino® Blended Crème</td>\n",
       "      <td>Vanilla Bean (Without Whipped Cream)</td>\n",
       "      <td>Grande Nonfat Milk</td>\n",
       "      <td>240</td>\n",
       "      <td>0.1</td>\n",
       "      <td>0.1</td>\n",
       "      <td>0.0</td>\n",
       "      <td>5</td>\n",
       "      <td>230</td>\n",
       "      <td>56</td>\n",
       "      <td>0</td>\n",
       "      <td>55</td>\n",
       "      <td>5.0</td>\n",
       "      <td>8%</td>\n",
       "      <td>0%</td>\n",
       "      <td>15%</td>\n",
       "      <td>0%</td>\n",
       "      <td>0</td>\n",
       "    </tr>\n",
       "  </tbody>\n",
       "</table>\n",
       "</div>"
      ],
      "text/plain": [
       "              Beverage_category                                      Beverage  \\\n",
       "237  Frappuccino® Blended Crème  Strawberries & Crème (Without Whipped Cream)   \n",
       "238  Frappuccino® Blended Crème          Vanilla Bean (Without Whipped Cream)   \n",
       "239  Frappuccino® Blended Crème          Vanilla Bean (Without Whipped Cream)   \n",
       "240  Frappuccino® Blended Crème          Vanilla Bean (Without Whipped Cream)   \n",
       "241  Frappuccino® Blended Crème          Vanilla Bean (Without Whipped Cream)   \n",
       "\n",
       "          Beverage_prep  Calories  Total Fat (g)  Trans Fat (g)   \\\n",
       "237             Soymilk       320            3 2             0.4   \n",
       "238    Tall Nonfat Milk       170            0.1             0.1   \n",
       "239          Whole Milk       200            3.5             2.0   \n",
       "240             Soymilk       180            1.5             0.2   \n",
       "241  Grande Nonfat Milk       240            0.1             0.1   \n",
       "\n",
       "     Saturated Fat (g)   Sodium (mg)   Total Carbohydrates (g)   \\\n",
       "237                0.0             0                        250   \n",
       "238                0.0             0                        160   \n",
       "239                0.1            10                        160   \n",
       "240                0.0             0                        160   \n",
       "241                0.0             5                        230   \n",
       "\n",
       "     Cholesterol (mg)   Dietary Fibre (g)   Sugars (g)   Protein (g)   \\\n",
       "237                67                   1           64            5.0   \n",
       "238                39                   0           38            4.0   \n",
       "239                39                   0           38            3.0   \n",
       "240                37                   1           35            3.0   \n",
       "241                56                   0           55            5.0   \n",
       "\n",
       "    Vitamin A (% DV)  Vitamin C (% DV)  Calcium (% DV)  Iron (% DV)   \\\n",
       "237                6%               8%              20%          10%   \n",
       "238                6%               0%              10%           0%   \n",
       "239                6%               0%              10%           0%   \n",
       "240                4%               0%              10%           6%   \n",
       "241                8%               0%              15%           0%   \n",
       "\n",
       "    Caffeine (mg)  \n",
       "237             0  \n",
       "238             0  \n",
       "239             0  \n",
       "240             0  \n",
       "241             0  "
      ]
     },
     "execution_count": 4,
     "metadata": {},
     "output_type": "execute_result"
    }
   ],
   "source": [
    "#last 5 rows\n",
    "drinks_content.tail(5)"
   ]
  },
  {
   "cell_type": "code",
   "execution_count": 5,
   "metadata": {},
   "outputs": [
    {
     "data": {
      "text/html": [
       "<div>\n",
       "<style scoped>\n",
       "    .dataframe tbody tr th:only-of-type {\n",
       "        vertical-align: middle;\n",
       "    }\n",
       "\n",
       "    .dataframe tbody tr th {\n",
       "        vertical-align: top;\n",
       "    }\n",
       "\n",
       "    .dataframe thead th {\n",
       "        text-align: right;\n",
       "    }\n",
       "</style>\n",
       "<table border=\"1\" class=\"dataframe\">\n",
       "  <thead>\n",
       "    <tr style=\"text-align: right;\">\n",
       "      <th></th>\n",
       "      <th>Beverage_category</th>\n",
       "      <th>Beverage</th>\n",
       "      <th>Beverage_prep</th>\n",
       "      <th>Calories</th>\n",
       "      <th>Total Fat (g)</th>\n",
       "      <th>Trans Fat (g)</th>\n",
       "      <th>Saturated Fat (g)</th>\n",
       "      <th>Sodium (mg)</th>\n",
       "      <th>Total Carbohydrates (g)</th>\n",
       "      <th>Cholesterol (mg)</th>\n",
       "      <th>Dietary Fibre (g)</th>\n",
       "      <th>Sugars (g)</th>\n",
       "      <th>Protein (g)</th>\n",
       "      <th>Vitamin A (% DV)</th>\n",
       "      <th>Vitamin C (% DV)</th>\n",
       "      <th>Calcium (% DV)</th>\n",
       "      <th>Iron (% DV)</th>\n",
       "      <th>Caffeine (mg)</th>\n",
       "    </tr>\n",
       "  </thead>\n",
       "  <tbody>\n",
       "    <tr>\n",
       "      <th>0</th>\n",
       "      <td>Coffee</td>\n",
       "      <td>Brewed Coffee</td>\n",
       "      <td>Short</td>\n",
       "      <td>3</td>\n",
       "      <td>0.1</td>\n",
       "      <td>0.0</td>\n",
       "      <td>0.0</td>\n",
       "      <td>0</td>\n",
       "      <td>5</td>\n",
       "      <td>0</td>\n",
       "      <td>0</td>\n",
       "      <td>0</td>\n",
       "      <td>0.3</td>\n",
       "      <td>0%</td>\n",
       "      <td>0%</td>\n",
       "      <td>0%</td>\n",
       "      <td>0%</td>\n",
       "      <td>175</td>\n",
       "    </tr>\n",
       "    <tr>\n",
       "      <th>1</th>\n",
       "      <td>Coffee</td>\n",
       "      <td>Brewed Coffee</td>\n",
       "      <td>Tall</td>\n",
       "      <td>4</td>\n",
       "      <td>0.1</td>\n",
       "      <td>0.0</td>\n",
       "      <td>0.0</td>\n",
       "      <td>0</td>\n",
       "      <td>10</td>\n",
       "      <td>0</td>\n",
       "      <td>0</td>\n",
       "      <td>0</td>\n",
       "      <td>0.5</td>\n",
       "      <td>0%</td>\n",
       "      <td>0%</td>\n",
       "      <td>0%</td>\n",
       "      <td>0%</td>\n",
       "      <td>260</td>\n",
       "    </tr>\n",
       "    <tr>\n",
       "      <th>2</th>\n",
       "      <td>Coffee</td>\n",
       "      <td>Brewed Coffee</td>\n",
       "      <td>Grande</td>\n",
       "      <td>5</td>\n",
       "      <td>0.1</td>\n",
       "      <td>0.0</td>\n",
       "      <td>0.0</td>\n",
       "      <td>0</td>\n",
       "      <td>10</td>\n",
       "      <td>0</td>\n",
       "      <td>0</td>\n",
       "      <td>0</td>\n",
       "      <td>1.0</td>\n",
       "      <td>0%</td>\n",
       "      <td>0%</td>\n",
       "      <td>0%</td>\n",
       "      <td>0%</td>\n",
       "      <td>330</td>\n",
       "    </tr>\n",
       "    <tr>\n",
       "      <th>3</th>\n",
       "      <td>Coffee</td>\n",
       "      <td>Brewed Coffee</td>\n",
       "      <td>Venti</td>\n",
       "      <td>5</td>\n",
       "      <td>0.1</td>\n",
       "      <td>0.0</td>\n",
       "      <td>0.0</td>\n",
       "      <td>0</td>\n",
       "      <td>10</td>\n",
       "      <td>0</td>\n",
       "      <td>0</td>\n",
       "      <td>0</td>\n",
       "      <td>1.0</td>\n",
       "      <td>0%</td>\n",
       "      <td>0%</td>\n",
       "      <td>2%</td>\n",
       "      <td>0%</td>\n",
       "      <td>410</td>\n",
       "    </tr>\n",
       "    <tr>\n",
       "      <th>4</th>\n",
       "      <td>Classic Espresso Drinks</td>\n",
       "      <td>Caffè Latte</td>\n",
       "      <td>Short Nonfat Milk</td>\n",
       "      <td>70</td>\n",
       "      <td>0.1</td>\n",
       "      <td>0.1</td>\n",
       "      <td>0.0</td>\n",
       "      <td>5</td>\n",
       "      <td>75</td>\n",
       "      <td>10</td>\n",
       "      <td>0</td>\n",
       "      <td>9</td>\n",
       "      <td>6.0</td>\n",
       "      <td>10%</td>\n",
       "      <td>0%</td>\n",
       "      <td>20%</td>\n",
       "      <td>0%</td>\n",
       "      <td>75</td>\n",
       "    </tr>\n",
       "    <tr>\n",
       "      <th>...</th>\n",
       "      <td>...</td>\n",
       "      <td>...</td>\n",
       "      <td>...</td>\n",
       "      <td>...</td>\n",
       "      <td>...</td>\n",
       "      <td>...</td>\n",
       "      <td>...</td>\n",
       "      <td>...</td>\n",
       "      <td>...</td>\n",
       "      <td>...</td>\n",
       "      <td>...</td>\n",
       "      <td>...</td>\n",
       "      <td>...</td>\n",
       "      <td>...</td>\n",
       "      <td>...</td>\n",
       "      <td>...</td>\n",
       "      <td>...</td>\n",
       "      <td>...</td>\n",
       "    </tr>\n",
       "    <tr>\n",
       "      <th>237</th>\n",
       "      <td>Frappuccino® Blended Crème</td>\n",
       "      <td>Strawberries &amp; Crème (Without Whipped Cream)</td>\n",
       "      <td>Soymilk</td>\n",
       "      <td>320</td>\n",
       "      <td>3 2</td>\n",
       "      <td>0.4</td>\n",
       "      <td>0.0</td>\n",
       "      <td>0</td>\n",
       "      <td>250</td>\n",
       "      <td>67</td>\n",
       "      <td>1</td>\n",
       "      <td>64</td>\n",
       "      <td>5.0</td>\n",
       "      <td>6%</td>\n",
       "      <td>8%</td>\n",
       "      <td>20%</td>\n",
       "      <td>10%</td>\n",
       "      <td>0</td>\n",
       "    </tr>\n",
       "    <tr>\n",
       "      <th>238</th>\n",
       "      <td>Frappuccino® Blended Crème</td>\n",
       "      <td>Vanilla Bean (Without Whipped Cream)</td>\n",
       "      <td>Tall Nonfat Milk</td>\n",
       "      <td>170</td>\n",
       "      <td>0.1</td>\n",
       "      <td>0.1</td>\n",
       "      <td>0.0</td>\n",
       "      <td>0</td>\n",
       "      <td>160</td>\n",
       "      <td>39</td>\n",
       "      <td>0</td>\n",
       "      <td>38</td>\n",
       "      <td>4.0</td>\n",
       "      <td>6%</td>\n",
       "      <td>0%</td>\n",
       "      <td>10%</td>\n",
       "      <td>0%</td>\n",
       "      <td>0</td>\n",
       "    </tr>\n",
       "    <tr>\n",
       "      <th>239</th>\n",
       "      <td>Frappuccino® Blended Crème</td>\n",
       "      <td>Vanilla Bean (Without Whipped Cream)</td>\n",
       "      <td>Whole Milk</td>\n",
       "      <td>200</td>\n",
       "      <td>3.5</td>\n",
       "      <td>2.0</td>\n",
       "      <td>0.1</td>\n",
       "      <td>10</td>\n",
       "      <td>160</td>\n",
       "      <td>39</td>\n",
       "      <td>0</td>\n",
       "      <td>38</td>\n",
       "      <td>3.0</td>\n",
       "      <td>6%</td>\n",
       "      <td>0%</td>\n",
       "      <td>10%</td>\n",
       "      <td>0%</td>\n",
       "      <td>0</td>\n",
       "    </tr>\n",
       "    <tr>\n",
       "      <th>240</th>\n",
       "      <td>Frappuccino® Blended Crème</td>\n",
       "      <td>Vanilla Bean (Without Whipped Cream)</td>\n",
       "      <td>Soymilk</td>\n",
       "      <td>180</td>\n",
       "      <td>1.5</td>\n",
       "      <td>0.2</td>\n",
       "      <td>0.0</td>\n",
       "      <td>0</td>\n",
       "      <td>160</td>\n",
       "      <td>37</td>\n",
       "      <td>1</td>\n",
       "      <td>35</td>\n",
       "      <td>3.0</td>\n",
       "      <td>4%</td>\n",
       "      <td>0%</td>\n",
       "      <td>10%</td>\n",
       "      <td>6%</td>\n",
       "      <td>0</td>\n",
       "    </tr>\n",
       "    <tr>\n",
       "      <th>241</th>\n",
       "      <td>Frappuccino® Blended Crème</td>\n",
       "      <td>Vanilla Bean (Without Whipped Cream)</td>\n",
       "      <td>Grande Nonfat Milk</td>\n",
       "      <td>240</td>\n",
       "      <td>0.1</td>\n",
       "      <td>0.1</td>\n",
       "      <td>0.0</td>\n",
       "      <td>5</td>\n",
       "      <td>230</td>\n",
       "      <td>56</td>\n",
       "      <td>0</td>\n",
       "      <td>55</td>\n",
       "      <td>5.0</td>\n",
       "      <td>8%</td>\n",
       "      <td>0%</td>\n",
       "      <td>15%</td>\n",
       "      <td>0%</td>\n",
       "      <td>0</td>\n",
       "    </tr>\n",
       "  </tbody>\n",
       "</table>\n",
       "<p>242 rows × 18 columns</p>\n",
       "</div>"
      ],
      "text/plain": [
       "              Beverage_category                                      Beverage  \\\n",
       "0                        Coffee                                 Brewed Coffee   \n",
       "1                        Coffee                                 Brewed Coffee   \n",
       "2                        Coffee                                 Brewed Coffee   \n",
       "3                        Coffee                                 Brewed Coffee   \n",
       "4       Classic Espresso Drinks                                   Caffè Latte   \n",
       "..                          ...                                           ...   \n",
       "237  Frappuccino® Blended Crème  Strawberries & Crème (Without Whipped Cream)   \n",
       "238  Frappuccino® Blended Crème          Vanilla Bean (Without Whipped Cream)   \n",
       "239  Frappuccino® Blended Crème          Vanilla Bean (Without Whipped Cream)   \n",
       "240  Frappuccino® Blended Crème          Vanilla Bean (Without Whipped Cream)   \n",
       "241  Frappuccino® Blended Crème          Vanilla Bean (Without Whipped Cream)   \n",
       "\n",
       "          Beverage_prep  Calories  Total Fat (g)  Trans Fat (g)   \\\n",
       "0                 Short         3            0.1             0.0   \n",
       "1                  Tall         4            0.1             0.0   \n",
       "2                Grande         5            0.1             0.0   \n",
       "3                 Venti         5            0.1             0.0   \n",
       "4     Short Nonfat Milk        70            0.1             0.1   \n",
       "..                  ...       ...            ...             ...   \n",
       "237             Soymilk       320            3 2             0.4   \n",
       "238    Tall Nonfat Milk       170            0.1             0.1   \n",
       "239          Whole Milk       200            3.5             2.0   \n",
       "240             Soymilk       180            1.5             0.2   \n",
       "241  Grande Nonfat Milk       240            0.1             0.1   \n",
       "\n",
       "     Saturated Fat (g)   Sodium (mg)   Total Carbohydrates (g)   \\\n",
       "0                  0.0             0                          5   \n",
       "1                  0.0             0                         10   \n",
       "2                  0.0             0                         10   \n",
       "3                  0.0             0                         10   \n",
       "4                  0.0             5                         75   \n",
       "..                 ...           ...                        ...   \n",
       "237                0.0             0                        250   \n",
       "238                0.0             0                        160   \n",
       "239                0.1            10                        160   \n",
       "240                0.0             0                        160   \n",
       "241                0.0             5                        230   \n",
       "\n",
       "     Cholesterol (mg)   Dietary Fibre (g)   Sugars (g)   Protein (g)   \\\n",
       "0                   0                   0            0            0.3   \n",
       "1                   0                   0            0            0.5   \n",
       "2                   0                   0            0            1.0   \n",
       "3                   0                   0            0            1.0   \n",
       "4                  10                   0            9            6.0   \n",
       "..                ...                 ...          ...            ...   \n",
       "237                67                   1           64            5.0   \n",
       "238                39                   0           38            4.0   \n",
       "239                39                   0           38            3.0   \n",
       "240                37                   1           35            3.0   \n",
       "241                56                   0           55            5.0   \n",
       "\n",
       "    Vitamin A (% DV)  Vitamin C (% DV)  Calcium (% DV)  Iron (% DV)   \\\n",
       "0                  0%               0%               0%           0%   \n",
       "1                  0%               0%               0%           0%   \n",
       "2                  0%               0%               0%           0%   \n",
       "3                  0%               0%               2%           0%   \n",
       "4                 10%               0%              20%           0%   \n",
       "..                ...              ...              ...          ...   \n",
       "237                6%               8%              20%          10%   \n",
       "238                6%               0%              10%           0%   \n",
       "239                6%               0%              10%           0%   \n",
       "240                4%               0%              10%           6%   \n",
       "241                8%               0%              15%           0%   \n",
       "\n",
       "    Caffeine (mg)  \n",
       "0             175  \n",
       "1             260  \n",
       "2             330  \n",
       "3             410  \n",
       "4              75  \n",
       "..            ...  \n",
       "237             0  \n",
       "238             0  \n",
       "239             0  \n",
       "240             0  \n",
       "241             0  \n",
       "\n",
       "[242 rows x 18 columns]"
      ]
     },
     "execution_count": 5,
     "metadata": {},
     "output_type": "execute_result"
    }
   ],
   "source": [
    "#printing out all of the data\n",
    "drinks_content"
   ]
  },
  {
   "cell_type": "code",
   "execution_count": 6,
   "metadata": {},
   "outputs": [
    {
     "data": {
      "text/plain": [
       "(242, 18)"
      ]
     },
     "execution_count": 6,
     "metadata": {},
     "output_type": "execute_result"
    }
   ],
   "source": [
    "#Find out the dimensions of the data\n",
    "drinks_content.shape"
   ]
  },
  {
   "cell_type": "code",
   "execution_count": 7,
   "metadata": {},
   "outputs": [
    {
     "data": {
      "text/plain": [
       "Index(['Beverage_category', 'Beverage', 'Beverage_prep', 'Calories',\n",
       "       ' Total Fat (g)', 'Trans Fat (g) ', 'Saturated Fat (g)', ' Sodium (mg)',\n",
       "       ' Total Carbohydrates (g) ', 'Cholesterol (mg)', ' Dietary Fibre (g)',\n",
       "       ' Sugars (g)', ' Protein (g) ', 'Vitamin A (% DV) ', 'Vitamin C (% DV)',\n",
       "       ' Calcium (% DV) ', 'Iron (% DV) ', 'Caffeine (mg)'],\n",
       "      dtype='object')"
      ]
     },
     "execution_count": 7,
     "metadata": {},
     "output_type": "execute_result"
    }
   ],
   "source": [
    "#Find out the column names\n",
    "drinks_content.columns"
   ]
  },
  {
   "cell_type": "code",
   "execution_count": 12,
   "metadata": {},
   "outputs": [
    {
     "data": {
      "text/plain": [
       "193.87190082644628"
      ]
     },
     "execution_count": 12,
     "metadata": {},
     "output_type": "execute_result"
    }
   ],
   "source": [
    "#2. We're going to be looking at the number of Calories in each drink. \n",
    "#Calculate some quick summary statistics (e.g. the mean, the maximum and minimum).\n",
    "\n",
    "drinks_content[\"Calories\"].mean()"
   ]
  },
  {
   "cell_type": "code",
   "execution_count": 14,
   "metadata": {},
   "outputs": [
    {
     "data": {
      "text/plain": [
       "510"
      ]
     },
     "execution_count": 14,
     "metadata": {},
     "output_type": "execute_result"
    }
   ],
   "source": [
    "drinks_content[\"Calories\"].max()"
   ]
  },
  {
   "cell_type": "code",
   "execution_count": 15,
   "metadata": {},
   "outputs": [
    {
     "data": {
      "text/plain": [
       "0"
      ]
     },
     "execution_count": 15,
     "metadata": {},
     "output_type": "execute_result"
    }
   ],
   "source": [
    "drinks_content[\"Calories\"].min()"
   ]
  },
  {
   "cell_type": "code",
   "execution_count": null,
   "metadata": {},
   "outputs": [],
   "source": [
    "#3. Select the variables Beverage_category, Beverage, \n",
    "#Beverage prep and Calories from the drinks_content data frame, \n",
    "#and assign the selected columns to a new data frame called drinks. \n",
    "#Check if there are any missing values anywhere in the data, and drop any rows containing them if there are."
   ]
  },
  {
   "cell_type": "code",
   "execution_count": 18,
   "metadata": {},
   "outputs": [],
   "source": [
    "drinks = drinks_content.loc[:, [\"Beverage_category\", \"Beverage\", \"Beverage_prep\", \"Calories\"]].copy()"
   ]
  },
  {
   "cell_type": "code",
   "execution_count": 19,
   "metadata": {},
   "outputs": [
    {
     "data": {
      "text/plain": [
       "Beverage_category    0\n",
       "Beverage             0\n",
       "Beverage_prep        0\n",
       "Calories             0\n",
       "dtype: int64"
      ]
     },
     "execution_count": 19,
     "metadata": {},
     "output_type": "execute_result"
    }
   ],
   "source": [
    "#checking for missing values\n",
    "drinks.isna().sum()\n",
    "#none found"
   ]
  },
  {
   "cell_type": "code",
   "execution_count": null,
   "metadata": {},
   "outputs": [],
   "source": [
    "#4. In your drinks dataframe create a new variable (column) called calorie_diff, \n",
    "#which stores the difference between 135 calories (135 calories = 10 cubes of sugar!) and the calories in each drink. \n",
    "(Hint: you’ll want to subtract the calories from 135 to see which drink have more or less than 10 cups of sugar)."
   ]
  },
  {
   "cell_type": "code",
   "execution_count": 22,
   "metadata": {},
   "outputs": [],
   "source": [
    "drinks[\"calorie_diff\"] = 135 - drinks[\"Calories\"]"
   ]
  },
  {
   "cell_type": "code",
   "execution_count": 99,
   "metadata": {},
   "outputs": [],
   "source": [
    "#create new column for plotting\n",
    "drinks.loc[: ,\"positive\"] = np.where(drinks.calorie_diff > 0, 'yes', 'no')"
   ]
  },
  {
   "cell_type": "code",
   "execution_count": null,
   "metadata": {},
   "outputs": [],
   "source": [
    "#5. Summarise the mean number of calories in each beverage_category. \n",
    "#Which 3 category of drinks have the most calories? \n",
    "#Which 3 drinks have the least? Write a small summary of your findings."
   ]
  },
  {
   "cell_type": "code",
   "execution_count": 24,
   "metadata": {},
   "outputs": [
    {
     "data": {
      "text/plain": [
       "Beverage_category\n",
       "Classic Espresso Drinks              140.172414\n",
       "Coffee                                 4.250000\n",
       "Frappuccino® Blended Coffee          276.944444\n",
       "Frappuccino® Blended Crème           233.076923\n",
       "Frappuccino® Light Blended Coffee    162.500000\n",
       "Shaken Iced Beverages                114.444444\n",
       "Signature Espresso Drinks            250.000000\n",
       "Smoothies                            282.222222\n",
       "Tazo® Tea Drinks                     177.307692\n",
       "Name: Calories, dtype: float64"
      ]
     },
     "execution_count": 24,
     "metadata": {},
     "output_type": "execute_result"
    }
   ],
   "source": [
    "drinks.groupby(\"Beverage_category\")[\"Calories\"].mean()"
   ]
  },
  {
   "cell_type": "code",
   "execution_count": 29,
   "metadata": {},
   "outputs": [
    {
     "data": {
      "text/plain": [
       "Beverage_category\n",
       "Smoothies                      282.222222\n",
       "Frappuccino® Blended Coffee    276.944444\n",
       "Signature Espresso Drinks      250.000000\n",
       "Name: Calories, dtype: float64"
      ]
     },
     "execution_count": 29,
     "metadata": {},
     "output_type": "execute_result"
    }
   ],
   "source": [
    "#Which 3 category of drinks have the most calories? \n",
    "drinks.groupby(\"Beverage_category\")[\"Calories\"].mean().sort_values(ascending = False).head(3)"
   ]
  },
  {
   "cell_type": "code",
   "execution_count": 28,
   "metadata": {},
   "outputs": [
    {
     "data": {
      "text/plain": [
       "Beverage_category\n",
       "Coffee                       4.250000\n",
       "Shaken Iced Beverages      114.444444\n",
       "Classic Espresso Drinks    140.172414\n",
       "Name: Calories, dtype: float64"
      ]
     },
     "execution_count": 28,
     "metadata": {},
     "output_type": "execute_result"
    }
   ],
   "source": [
    "#Which 3 drinks have the least? \n",
    "drinks.groupby(\"Beverage_category\")[\"Calories\"].mean().sort_values().head(3)"
   ]
  },
  {
   "cell_type": "code",
   "execution_count": null,
   "metadata": {},
   "outputs": [],
   "source": [
    "#ANS: From the above output, Smoothies, Frappuccinos & Signature Expresso drinks have the most calories\n",
    "#Coffee, Shaken Iced Beverages & Classic Expresso Drinks have the least calories"
   ]
  },
  {
   "cell_type": "code",
   "execution_count": null,
   "metadata": {},
   "outputs": [],
   "source": [
    "#6. Which Beverage_prep type contains more than the average calories of all drinks? \n",
    "#(Hint: to answer this, you’ll have to first figure out what the average calories across all drinks are, \n",
    "#and then use that as a filter for the grouped Beverage_prep data)."
   ]
  },
  {
   "cell_type": "code",
   "execution_count": 32,
   "metadata": {},
   "outputs": [],
   "source": [
    "#create column to record mean calories for all drinks\n",
    "drinks[\"mean_calories\"] = drinks[\"Calories\"].mean()"
   ]
  },
  {
   "cell_type": "code",
   "execution_count": 34,
   "metadata": {},
   "outputs": [],
   "source": [
    "#create a column which holds a boolean as to whether the drink has more calories than the average\n",
    "drinks[\"more_than_mean\"] = drinks[\"Calories\"] > drinks[\"mean_calories\"]"
   ]
  },
  {
   "cell_type": "code",
   "execution_count": 62,
   "metadata": {},
   "outputs": [
    {
     "data": {
      "text/html": [
       "<div>\n",
       "<style scoped>\n",
       "    .dataframe tbody tr th:only-of-type {\n",
       "        vertical-align: middle;\n",
       "    }\n",
       "\n",
       "    .dataframe tbody tr th {\n",
       "        vertical-align: top;\n",
       "    }\n",
       "\n",
       "    .dataframe thead th {\n",
       "        text-align: right;\n",
       "    }\n",
       "</style>\n",
       "<table border=\"1\" class=\"dataframe\">\n",
       "  <thead>\n",
       "    <tr style=\"text-align: right;\">\n",
       "      <th></th>\n",
       "      <th>Beverage_prep</th>\n",
       "    </tr>\n",
       "  </thead>\n",
       "  <tbody>\n",
       "    <tr>\n",
       "      <th>14</th>\n",
       "      <td>2% Milk</td>\n",
       "    </tr>\n",
       "    <tr>\n",
       "      <th>22</th>\n",
       "      <td>Grande Nonfat Milk</td>\n",
       "    </tr>\n",
       "    <tr>\n",
       "      <th>24</th>\n",
       "      <td>Soymilk</td>\n",
       "    </tr>\n",
       "    <tr>\n",
       "      <th>25</th>\n",
       "      <td>Venti Nonfat Milk</td>\n",
       "    </tr>\n",
       "    <tr>\n",
       "      <th>77</th>\n",
       "      <td>Tall Nonfat Milk</td>\n",
       "    </tr>\n",
       "    <tr>\n",
       "      <th>99</th>\n",
       "      <td>Tall</td>\n",
       "    </tr>\n",
       "    <tr>\n",
       "      <th>100</th>\n",
       "      <td>Grande</td>\n",
       "    </tr>\n",
       "    <tr>\n",
       "      <th>101</th>\n",
       "      <td>Venti</td>\n",
       "    </tr>\n",
       "    <tr>\n",
       "      <th>185</th>\n",
       "      <td>Whole Milk</td>\n",
       "    </tr>\n",
       "  </tbody>\n",
       "</table>\n",
       "</div>"
      ],
      "text/plain": [
       "          Beverage_prep\n",
       "14              2% Milk\n",
       "22   Grande Nonfat Milk\n",
       "24              Soymilk\n",
       "25    Venti Nonfat Milk\n",
       "77     Tall Nonfat Milk\n",
       "99                 Tall\n",
       "100              Grande\n",
       "101               Venti\n",
       "185          Whole Milk"
      ]
     },
     "execution_count": 62,
     "metadata": {},
     "output_type": "execute_result"
    }
   ],
   "source": [
    "#display drink prep type that has more calories than average\n",
    "drinks.loc[(drinks[\"more_than_mean\"] == True), ([\"Beverage_prep\"])].drop_duplicates()"
   ]
  },
  {
   "cell_type": "code",
   "execution_count": null,
   "metadata": {},
   "outputs": [],
   "source": [
    "# 7. Which is the best type of coffee drink to get if you’re worried about consuming too many calories?"
   ]
  },
  {
   "cell_type": "code",
   "execution_count": 67,
   "metadata": {},
   "outputs": [
    {
     "data": {
      "text/plain": [
       "0                                 Coffee\n",
       "4                Classic Espresso Drinks\n",
       "62             Signature Espresso Drinks\n",
       "102                     Tazo® Tea Drinks\n",
       "154                Shaken Iced Beverages\n",
       "172                            Smoothies\n",
       "181          Frappuccino® Blended Coffee\n",
       "217    Frappuccino® Light Blended Coffee\n",
       "229           Frappuccino® Blended Crème\n",
       "Name: Beverage_category, dtype: object"
      ]
     },
     "execution_count": 67,
     "metadata": {},
     "output_type": "execute_result"
    }
   ],
   "source": [
    "drinks[\"Beverage_category\"].drop_duplicates()"
   ]
  },
  {
   "cell_type": "code",
   "execution_count": null,
   "metadata": {},
   "outputs": [],
   "source": [
    "# 8. Filter the dataset drinks so we only take \n",
    "#\"Classic Espresso Drinks\", and save this in a new data frame called espresso_drinks."
   ]
  },
  {
   "cell_type": "code",
   "execution_count": null,
   "metadata": {},
   "outputs": [],
   "source": [
    "expresso_drinks = drinks_content.loc[:, [\"Beverage_category\", \"Beverage\", \"Beverage_prep\", \"Calories\"]].copy()"
   ]
  },
  {
   "cell_type": "code",
   "execution_count": 77,
   "metadata": {},
   "outputs": [],
   "source": [
    "expresso_drinks = drinks.loc[drinks[\"Beverage_category\"] == \"Classic Espresso Drinks\"]"
   ]
  },
  {
   "cell_type": "code",
   "execution_count": 79,
   "metadata": {},
   "outputs": [
    {
     "data": {
      "text/plain": [
       "Beverage_prep\n",
       "2% Milk               184.375\n",
       "Doppio                 10.000\n",
       "Grande                 15.000\n",
       "Grande Nonfat Milk    150.000\n",
       "Short                   5.000\n",
       "Short Nonfat Milk      78.000\n",
       "Solo                    5.000\n",
       "Soymilk               151.250\n",
       "Tall                   10.000\n",
       "Tall Nonfat Milk      116.000\n",
       "Venti                  25.000\n",
       "Venti Nonfat Milk     194.000\n",
       "Name: Calories, dtype: float64"
      ]
     },
     "execution_count": 79,
     "metadata": {},
     "output_type": "execute_result"
    }
   ],
   "source": [
    "#9. Group your espresso_drinks data frame by the type of Beverage prep, \n",
    "# and then find out the mean calories for each drink group.\n",
    "\n",
    "expresso_drinks.groupby(\"Beverage_prep\")[\"Calories\"].mean()"
   ]
  },
  {
   "cell_type": "code",
   "execution_count": 80,
   "metadata": {},
   "outputs": [
    {
     "data": {
      "text/plain": [
       "Beverage_prep\n",
       "Venti Nonfat Milk     194.000\n",
       "2% Milk               184.375\n",
       "Soymilk               151.250\n",
       "Grande Nonfat Milk    150.000\n",
       "Tall Nonfat Milk      116.000\n",
       "Short Nonfat Milk      78.000\n",
       "Venti                  25.000\n",
       "Grande                 15.000\n",
       "Tall                   10.000\n",
       "Doppio                 10.000\n",
       "Solo                    5.000\n",
       "Short                   5.000\n",
       "Name: Calories, dtype: float64"
      ]
     },
     "execution_count": 80,
     "metadata": {},
     "output_type": "execute_result"
    }
   ],
   "source": [
    "#10. Get the same grouped mean Calories values as above, but this time sorted in descending order. \n",
    "#(Hint: so you're able to sort the resulting groupby by the 'Calories' \n",
    "#column you will want to ensure you get back a dataframe and not a series)\n",
    "\n",
    "expresso_drinks.groupby(\"Beverage_prep\")[\"Calories\"].mean().sort_values(ascending = False)"
   ]
  },
  {
   "cell_type": "markdown",
   "metadata": {},
   "source": [
    "Extensions"
   ]
  },
  {
   "cell_type": "code",
   "execution_count": null,
   "metadata": {},
   "outputs": [],
   "source": [
    "# play around with the data yourself. \n",
    "#Is there anything surprising facts from the data? \n",
    "#Any interesting plots you can make?"
   ]
  },
  {
   "cell_type": "code",
   "execution_count": 81,
   "metadata": {},
   "outputs": [],
   "source": [
    "import matplotlib.pyplot as plt"
   ]
  },
  {
   "cell_type": "code",
   "execution_count": 82,
   "metadata": {},
   "outputs": [],
   "source": [
    "import seaborn as sns"
   ]
  },
  {
   "cell_type": "code",
   "execution_count": 83,
   "metadata": {},
   "outputs": [],
   "source": [
    "plt.rcParams['figure.figsize'] = [5, 3]\n",
    "plt.rcParams['figure.dpi'] = 120\n",
    "plt.rcParams['font.size'] = 10"
   ]
  },
  {
   "cell_type": "code",
   "execution_count": 108,
   "metadata": {},
   "outputs": [
    {
     "data": {
      "image/png": "[encoded data removed]",
      "text/plain": [
       "<Figure size 600x360 with 1 Axes>"
      ]
     },
     "metadata": {
      "needs_background": "light"
     },
     "output_type": "display_data"
    }
   ],
   "source": [
    "sns.barplot(x = \"Beverage\", y = \"calorie_diff\", data = drinks, hue = \"positive\", ci = False,\n",
    "            palette = dict(yes = \"green\", no = \"red\") )\n",
    "plt.xlabel(\"Beverage\")\n",
    "plt.ylabel(\"Calories less than 135\")\n",
    "plt.title(\"Calorie Count\")\n",
    "plt.xticks(rotation = 90);"
   ]
  }
 ],
 "metadata": {
  "kernelspec": {
   "display_name": "Python 3",
   "language": "python",
   "name": "python3"
  },
  "language_info": {
   "codemirror_mode": {
    "name": "ipython",
    "version": 3
   },
   "file_extension": ".py",
   "mimetype": "text/x-python",
   "name": "python",
   "nbconvert_exporter": "python",
   "pygments_lexer": "ipython3",
   "version": "3.8.3"
  }
 },
 "nbformat": 4,
 "nbformat_minor": 4
}
